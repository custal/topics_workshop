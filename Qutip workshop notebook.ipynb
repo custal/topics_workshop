{
 "cells": [
  {
   "cell_type": "code",
   "execution_count": null,
   "id": "861f0d38",
   "metadata": {},
   "outputs": [],
   "source": [
    "from qutip import tensor, basis, sigmaz, sigmax, destroy, expect, identity, Qobj, mesolve\n",
    "import numpy as np\n",
    "import matplotlib.pyplot as plt"
   ]
  },
  {
   "cell_type": "markdown",
   "id": "576478e0",
   "metadata": {},
   "source": [
    "First we will go over some basics of qutip\n",
    "\n",
    "https://qutip.org/qutip-tutorials/"
   ]
  },
  {
   "cell_type": "markdown",
   "id": "b8ac2ead",
   "metadata": {},
   "source": [
    "$ \\mathbb{I}_2 $"
   ]
  },
  {
   "cell_type": "code",
   "execution_count": null,
   "id": "fed40f85",
   "metadata": {},
   "outputs": [],
   "source": []
  },
  {
   "cell_type": "markdown",
   "id": "65fbc015",
   "metadata": {},
   "source": [
    "$ \\mathbb{I}_4 $"
   ]
  },
  {
   "cell_type": "code",
   "execution_count": null,
   "id": "b9e40088",
   "metadata": {},
   "outputs": [],
   "source": []
  },
  {
   "cell_type": "markdown",
   "id": "b5f936bc",
   "metadata": {},
   "source": [
    "$ \\sigma_x $"
   ]
  },
  {
   "cell_type": "code",
   "execution_count": null,
   "id": "607fa3dd",
   "metadata": {},
   "outputs": [],
   "source": []
  },
  {
   "cell_type": "markdown",
   "id": "339cf6b6",
   "metadata": {},
   "source": [
    "$ \\sigma_x \\sigma_x = \\mathbb{I}_2 $"
   ]
  },
  {
   "cell_type": "code",
   "execution_count": null,
   "id": "ae48bfd1",
   "metadata": {},
   "outputs": [],
   "source": []
  },
  {
   "cell_type": "markdown",
   "id": "1419dd27",
   "metadata": {},
   "source": [
    "$ a $"
   ]
  },
  {
   "cell_type": "code",
   "execution_count": null,
   "id": "b76d0ba0",
   "metadata": {},
   "outputs": [],
   "source": []
  },
  {
   "cell_type": "markdown",
   "id": "7dbd9f7d",
   "metadata": {},
   "source": [
    "$ a^{\\dagger}a = n $"
   ]
  },
  {
   "cell_type": "code",
   "execution_count": null,
   "id": "72d755d3",
   "metadata": {},
   "outputs": [],
   "source": []
  },
  {
   "cell_type": "markdown",
   "id": "43e6580c",
   "metadata": {},
   "source": [
    "$ \\sigma_z \\otimes a^{\\dagger}a = \\begin{pmatrix}\n",
    "                                    a^{\\dagger}a & \\mathbb{0} \\\\\n",
    "                                    \\mathbb{0} & -a^{\\dagger}a\n",
    "                                    \\end{pmatrix} $"
   ]
  },
  {
   "cell_type": "code",
   "execution_count": null,
   "id": "d3d36123",
   "metadata": {},
   "outputs": [],
   "source": []
  },
  {
   "cell_type": "markdown",
   "id": "258ca1b6",
   "metadata": {},
   "source": [
    "$ \\vert 0 \\rangle $"
   ]
  },
  {
   "cell_type": "code",
   "execution_count": null,
   "id": "aedc691d",
   "metadata": {},
   "outputs": [],
   "source": []
  },
  {
   "cell_type": "code",
   "execution_count": null,
   "id": "4562c732",
   "metadata": {},
   "outputs": [],
   "source": []
  },
  {
   "cell_type": "markdown",
   "id": "30831537",
   "metadata": {},
   "source": [
    "$ \\sigma_x \\vert 0 \\rangle = \\vert 1 \\rangle $"
   ]
  },
  {
   "cell_type": "code",
   "execution_count": null,
   "id": "df7a1055",
   "metadata": {},
   "outputs": [],
   "source": []
  },
  {
   "cell_type": "markdown",
   "id": "4fbcf1d9",
   "metadata": {},
   "source": [
    "$ e^{-i \\sigma_x t} \\vert 0 \\rangle = \\frac{1}{\\sqrt{2}}(e^{-it} \\vert + \\rangle + e^{it} \\vert - \\rangle) $"
   ]
  },
  {
   "cell_type": "code",
   "execution_count": null,
   "id": "06ab3ac2",
   "metadata": {},
   "outputs": [],
   "source": []
  },
  {
   "cell_type": "code",
   "execution_count": null,
   "id": "73b0b4c7",
   "metadata": {},
   "outputs": [],
   "source": []
  },
  {
   "cell_type": "code",
   "execution_count": null,
   "id": "0672180c",
   "metadata": {},
   "outputs": [],
   "source": []
  },
  {
   "cell_type": "markdown",
   "id": "bfbf61bc",
   "metadata": {},
   "source": [
    "$ \\rho = \\vert 0 \\rangle \\langle 0 \\vert $"
   ]
  },
  {
   "cell_type": "code",
   "execution_count": null,
   "id": "4b588ab9",
   "metadata": {},
   "outputs": [],
   "source": []
  },
  {
   "cell_type": "code",
   "execution_count": null,
   "id": "c3b15b0c",
   "metadata": {},
   "outputs": [],
   "source": []
  },
  {
   "cell_type": "code",
   "execution_count": null,
   "id": "639c4c92",
   "metadata": {},
   "outputs": [],
   "source": []
  },
  {
   "cell_type": "raw",
   "id": "a4541bd4",
   "metadata": {},
   "source": [
    "\n",
    "\n",
    "\n",
    "\n",
    "\n",
    "\n",
    "\n",
    "\n",
    "\n",
    "\n",
    "\n",
    "\n",
    "\n",
    "\n",
    "\n",
    "\n",
    "\n",
    "\n",
    "\n",
    "\n",
    "\n",
    "\n",
    "\n",
    "\n",
    "\n",
    "\n",
    "\n",
    "\n",
    "\n",
    "\n",
    "\n",
    "\n",
    "\n",
    "\n",
    "\n",
    "\n",
    "\n",
    "\n",
    "\n",
    "\n",
    "\n",
    "\n",
    "\n",
    "\n",
    "\n"
   ]
  },
  {
   "cell_type": "markdown",
   "id": "335a9923",
   "metadata": {},
   "source": [
    "We are going to define some classes to help us build a general quantum system based on the Jaynes-Cummings model \n",
    "$ H = \\omega_c a^\\dagger a - \\frac{1}{2}\\omega_a \\sigma_z + g(a \\sigma^+ + a^\\dagger \\sigma^-) $\n",
    "\n",
    "https://qutip.org/docs/latest/guide/dynamics/dynamics-master.html"
   ]
  },
  {
   "cell_type": "code",
   "execution_count": null,
   "id": "34d869bb",
   "metadata": {},
   "outputs": [],
   "source": [
    "class QuantumDevice:\n",
    "    def __init__(self, id_, frequency, dimension=None):\n",
    "        self.id_ = id_\n",
    "        self.frequency = frequency\n",
    "        self.dimension = dimension\n",
    "        self.device_number = None\n",
    "        \n",
    "    def hamiltonian(self):\n",
    "        pass\n",
    "    \n",
    "    def coupling_hamiltonian(self):\n",
    "        pass\n",
    "\n",
    "    \n",
    "class Qubit(QuantumDevice):\n",
    "    def __init__(self, id_, frequency):\n",
    "        super().__init__(id_, frequency, 2)\n",
    "        \n",
    "    def hamiltonian(self):\n",
    "        return 0.5 * sigmaz()\n",
    "    \n",
    "    def coupling_hamiltonian(self):\n",
    "        return destroy(2)\n",
    "    \n",
    "    \n",
    "class Cavity(QuantumDevice):\n",
    "    def __init__(self, id_, frequency, dimension = 3):\n",
    "        super().__init__(id_, frequency, dimension)\n",
    "        \n",
    "    def hamiltonian(self):\n",
    "        a = destroy(self.dimension)\n",
    "        return a.dag() * a\n",
    "    \n",
    "    def coupling_hamiltonian(self):\n",
    "        return destroy(self.dimension)\n",
    "    \n",
    "    \n",
    "class Coupling(QuantumDevice):\n",
    "    def __init__(self, id_, frequency, device1, device2):\n",
    "        super().__init__(id_, frequency)\n",
    "        self.device1 = device1\n",
    "        self.device2 = device2\n"
   ]
  },
  {
   "cell_type": "markdown",
   "id": "9097c36a",
   "metadata": {},
   "source": [
    "We now define a quantum system class to hold our quantum objects and to use them for simulating the Jaynes–Cummings Hamiltonian."
   ]
  },
  {
   "cell_type": "code",
   "execution_count": null,
   "id": "8628fe3b",
   "metadata": {},
   "outputs": [],
   "source": [
    "class QuantumSystem:\n",
    "    def __init__(self):\n",
    "        self.quantum_devices = {}\n",
    "        self.couplings = {}\n",
    "        \n",
    "        \n",
    "    def add_component(self, device):\n",
    "        if isinstance(device, Coupling):\n",
    "            self.couplings[device.id_] = device\n",
    "        else:\n",
    "            device.device_number = len(self.quantum_devices)\n",
    "            self.quantum_devices[device.id_] = device\n",
    "            \n",
    "    def make_hilbert_space(self):\n",
    "        hilbert_space = []\n",
    "        for key, device in self.quantum_devices.items():\n",
    "            hilbert_space.append(identity(device.dimension))\n",
    "            \n",
    "        return hilbert_space\n",
    "            \n",
    "    def make_hamiltonian(self):\n",
    "        d_list = []\n",
    "        for key, device in self.quantum_devices.items():\n",
    "            d_list.append(device.frequency*device.hamiltonian())\n",
    "        \n",
    "        hamiltonian = tensor(d_list)\n",
    "        \n",
    "        for key, coupling in self.couplings.items():\n",
    "            hilbert_space = self.make_hilbert_space()\n",
    "            hilbert_space[coupling.device1.device_number] = coupling.device1.coupling_hamiltonian()\n",
    "            hilbert_space[coupling.device2.device_number] = coupling.device2.coupling_hamiltonian().dag()\n",
    "            coupling_operator = tensor(hilbert_space)\n",
    "            \n",
    "            coupling_term = coupling.frequency * (coupling_operator + coupling_operator.dag())\n",
    "            hamiltonian += coupling_term\n",
    "            \n",
    "        return hamiltonian\n",
    "    \n",
    "    def make_initial_condition(self, **device_excitations):\n",
    "        d_list = []\n",
    "        for key, device in self.quantum_devices.items():\n",
    "            d_list.append(basis(device.dimension, 0))\n",
    "            \n",
    "        for key, excitation in device_excitations.items():\n",
    "            device = self.quantum_devices[key]\n",
    "            d_list[device.device_number] = basis(device.dimension, excitation)\n",
    "            \n",
    "        return tensor(d_list)\n",
    "        "
   ]
  },
  {
   "cell_type": "markdown",
   "id": "a3bd2ae8",
   "metadata": {},
   "source": [
    "Let's see our system in action. First a single qubit coupled to a cavity"
   ]
  },
  {
   "cell_type": "code",
   "execution_count": null,
   "id": "f5fea038",
   "metadata": {},
   "outputs": [],
   "source": [
    "q0 = Qubit(\"Q0\", 0.1)\n",
    "c0 = Cavity(\"C0\", 0.1, 5)\n",
    "c_q0_c0 = Coupling(\"Q0_C0\", 0.1, q0, c0)\n",
    "\n",
    "qsys = QuantumSystem()\n",
    "qsys.add_component(q0)\n",
    "qsys.add_component(c0)\n",
    "qsys.add_component(c_q0_c0)\n",
    "\n",
    "\n",
    "tlist = np.linspace(0, 100, 1000)\n",
    "result = mesolve(qsys.make_hamiltonian(), qsys.make_initial_condition(Q0 = 1), tlist, [], [])\n",
    "\n",
    "z0 = qsys.make_hilbert_space()\n",
    "z0[1] = destroy(5).dag()*destroy(5)\n",
    "z_expect = expect(tensor(z0), result.states)\n",
    "\n",
    "fig, axes = plt.subplots(1, 1)\n",
    "\n",
    "axes.plot(tlist, z_expect)\n",
    "\n",
    "axes.set_xlabel(r\"$t$\", fontsize=20)\n",
    "axes.set_ylabel(r\"$\\left<\\sigma_z\\right>$\", fontsize=20);"
   ]
  },
  {
   "cell_type": "markdown",
   "id": "2754f84b",
   "metadata": {},
   "source": [
    "Now let's add a second qubit coupled to our first and slowly ramp up the coupling strength"
   ]
  },
  {
   "cell_type": "code",
   "execution_count": null,
   "id": "229e7ba7",
   "metadata": {},
   "outputs": [],
   "source": [
    "q0 = Qubit(\"Q0\", 0.1)\n",
    "q1 = Qubit(\"Q1\", 0.1)\n",
    "c0 = Cavity(\"C0\", 0.1, 5)\n",
    "c_q0_c0 = Coupling(\"Q0_C0\", 0.5, q0, c0)\n",
    "c_q0_q1 = Coupling(\"Q0_Q1\", 0.0, q0, q1)\n",
    "\n",
    "qsys = QuantumSystem()\n",
    "qsys.add_component(q0)\n",
    "qsys.add_component(q1)\n",
    "qsys.add_component(c0)\n",
    "qsys.add_component(c_q0_c0)\n",
    "qsys.add_component(c_q0_q1)\n",
    "\n",
    "\n",
    "\n",
    "tlist = np.linspace(0, 20, 1000)\n",
    "z0 = qsys.make_hilbert_space()\n",
    "z1 = qsys.make_hilbert_space()\n",
    "z0[0] = sigmaz()\n",
    "z1[1] = sigmaz()\n",
    "\n",
    "z0_list = []\n",
    "z1_list = []\n",
    "\n",
    "coupling_strengths = (0, 0.01, 0.1, 0.5, 0.9, 1.2)\n",
    "for g in coupling_strengths:\n",
    "    c_q0_q1.frequency = g\n",
    "    \n",
    "    \n",
    "    result = mesolve(qsys.make_hamiltonian(), qsys.make_initial_condition(Q0 = 1, Q1 = 0), tlist, [], [])\n",
    "    \n",
    "    z0_list.append(expect(tensor(z0), result.states))\n",
    "    z1_list.append(expect(tensor(z1), result.states))\n",
    "    \n",
    "\n",
    "fig, axes = plt.subplots(6, 2, figsize=(12, 12))\n",
    "fig.tight_layout()\n",
    "axes[0][0].set_title(\"Q0\", fontsize=20)\n",
    "axes[0][1].set_title(\"Q1\", fontsize=20)\n",
    "axes[5][0].set_xlabel(r\"$t$\", fontsize=20)\n",
    "axes[5][1].set_xlabel(r\"$t$\", fontsize=20)\n",
    "\n",
    "for i, g in enumerate(coupling_strengths):\n",
    "    axes[i][0].plot(tlist, z0_list[i])\n",
    "    axes[i][1].plot(tlist, z1_list[i])\n",
    "    \n",
    "    axes[i][0].set_ylabel(fr\"$\\left<\\sigma_z\\right>$, g = {g}\", fontsize=20);\n"
   ]
  },
  {
   "cell_type": "markdown",
   "id": "aee3dcfa",
   "metadata": {},
   "source": [
    "This more complicated example has 2 qubit-cavity pairs coupled to eachother via the qubits"
   ]
  },
  {
   "cell_type": "code",
   "execution_count": null,
   "id": "4dfb0779",
   "metadata": {},
   "outputs": [],
   "source": [
    "q0 = Qubit(\"Q0\", 0.5)\n",
    "q1 = Qubit(\"Q1\", 1)\n",
    "c0 = Cavity(\"C0\", 0.5, 5)\n",
    "c1 = Cavity(\"C1\", 1, 5)\n",
    "c_q0_c0 = Coupling(\"Q0_C0\", 0.5, q0, c0)\n",
    "c_q1_c1 = Coupling(\"Q1_C1\", 1, q1, c1)\n",
    "c_q0_q1 = Coupling(\"Q0_Q1\", 0, q0, q1)\n",
    "\n",
    "qsys = QuantumSystem()\n",
    "qsys.add_component(q0)\n",
    "qsys.add_component(q1)\n",
    "qsys.add_component(c0)\n",
    "qsys.add_component(c1)\n",
    "qsys.add_component(c_q0_c0)\n",
    "qsys.add_component(c_q1_c1)\n",
    "qsys.add_component(c_q0_q1)\n",
    "\n",
    "\n",
    "tlist = np.linspace(0, 20, 1000)\n",
    "result = mesolve(qsys.make_hamiltonian(), qsys.make_initial_condition(Q0 = 1, Q1 = 1), tlist, [], [])\n",
    "z0 = qsys.make_hilbert_space()\n",
    "z1 = qsys.make_hilbert_space()\n",
    "z0[0] = sigmaz()\n",
    "z1[1] = sigmaz()\n",
    "\n",
    "z0_list = []\n",
    "z1_list = []\n",
    "\n",
    "coupling_strengths = (0, 0.01, 0.1, 0.5, 0.9, 1.2)\n",
    "for g in coupling_strengths:\n",
    "    c_q0_q1.frequency = g\n",
    "    \n",
    "    \n",
    "    result = mesolve(qsys.make_hamiltonian(), qsys.make_initial_condition(Q0 = 1, Q1 = 1), tlist, [], [])\n",
    "    \n",
    "    z0_list.append(expect(tensor(z0), result.states))\n",
    "    z1_list.append(expect(tensor(z1), result.states))\n",
    "    \n",
    "    \n",
    "fig, axes = plt.subplots(6, 2, figsize=(12, 12))\n",
    "fig.tight_layout()\n",
    "axes[0][0].set_title(\"Q0\", fontsize=20)\n",
    "axes[0][1].set_title(\"Q1\", fontsize=20)\n",
    "axes[5][0].set_xlabel(r\"$t$\", fontsize=20)\n",
    "axes[5][1].set_xlabel(r\"$t$\", fontsize=20)\n",
    "\n",
    "for i, g in enumerate(coupling_strengths):\n",
    "    axes[i][0].plot(tlist, z0_list[i])\n",
    "    axes[i][1].plot(tlist, z1_list[i])\n",
    "    \n",
    "    axes[i][0].set_ylabel(fr\"$\\left<\\sigma_z\\right>$, g = {g}\", fontsize=20);    "
   ]
  },
  {
   "cell_type": "markdown",
   "id": "965800c4",
   "metadata": {},
   "source": [
    "We can model dissipative dynamics as well. mesolve is equivalent to solving the linblad master equation so we just need to define our jump operators, $ L_i $.\n",
    "$ \\dot{\\rho} = - \\frac{i}{\\hbar}[H, \\rho] + \\Sigma_i \\gamma_i (L_i \\rho L_i^\\dagger - \\frac{1}{2}\\{L_i^\\dagger L_i, \\rho\\}) $"
   ]
  },
  {
   "cell_type": "code",
   "execution_count": null,
   "id": "93263119",
   "metadata": {},
   "outputs": [],
   "source": [
    "q0 = Qubit(\"Q0\", 0.1)\n",
    "c0 = Cavity(\"C0\", 0.1, 5)\n",
    "c_q0_c0 = Coupling(\"Q0_C0\", 0.1, q0, c0)\n",
    "\n",
    "qsys = QuantumSystem()\n",
    "qsys.add_component(q0)\n",
    "qsys.add_component(c0)\n",
    "qsys.add_component(c_q0_c0)\n",
    "\n",
    "\n",
    "tlist = np.linspace(0, 500, 1000)\n",
    "# Define a collapse operator acting on the cavity\n",
    "collapse = qsys.make_hilbert_space()\n",
    "collapse[1] = np.sqrt(0.01)*destroy(5)\n",
    "\n",
    "result = mesolve(qsys.make_hamiltonian(), qsys.make_initial_condition(Q0 = 1), tlist, [tensor(collapse)], [])\n",
    "\n",
    "z0 = qsys.make_hilbert_space()\n",
    "z0[0] = sigmaz()\n",
    "z_expect = expect(tensor(z0), result.states)\n",
    "\n",
    "fig, axes = plt.subplots(1, 1)\n",
    "\n",
    "axes.plot(tlist, z_expect)\n",
    "\n",
    "axes.set_xlabel(r\"$t$\", fontsize=20)\n",
    "axes.set_ylabel(r\"$\\left<\\sigma_z\\right>$\", fontsize=20);"
   ]
  },
  {
   "cell_type": "markdown",
   "id": "4f76387b",
   "metadata": {},
   "source": [
    "Qutip can also model time-dependent Hamiltonians. Here we model a single qubit and a time-dependent drive. We assume the drive has an initial phase of zero. We make the rotating-wave approximation and shift into the frame of the drive.\n",
    "\n",
    "$ H = \\frac{\\omega-\\omega_d}{2} \\sigma_z + \\frac{\\Omega(t)}{2}\\sigma_x $\n",
    "\n",
    "https://qutip.org/docs/4.1/guide/dynamics/dynamics-time.html"
   ]
  },
  {
   "cell_type": "code",
   "execution_count": null,
   "id": "c66509a6",
   "metadata": {},
   "outputs": [],
   "source": [
    "class Drive(QuantumDevice):\n",
    "    def __init__(self, id_, frequency, target_device, shape='gaussian', amp=1, mean=50, width=5):\n",
    "        super().__init__(id_, frequency, None)\n",
    "        self.target_device = target_device\n",
    "        self.shape = shape\n",
    "        self.amp = amp\n",
    "        self.mean = mean\n",
    "        self.width = width\n",
    "        \n",
    "    def pulse(self, t, args):\n",
    "        if self.shape == 'gaussian':\n",
    "            return self.amp*np.exp(-((t-self.mean)/self.width)**2)\n",
    "    \n",
    "        elif self.shape == 'flat':\n",
    "            return self.amp\n",
    "        \n",
    "        \n",
    "class DrivenQuantumSystem(QuantumSystem):\n",
    "    def __init__(self):\n",
    "        super().__init__()\n",
    "        # We only allow for one drive in this simple simulation as multiple drives is a bit more fiddly, \n",
    "        # especially if they have different drive frequencies.\n",
    "        self.drive = None\n",
    "        \n",
    "    def add_component(self, device):\n",
    "        if isinstance(device, Drive):\n",
    "            self.drive = device\n",
    "        else:\n",
    "            super().add_component(device)\n",
    "            \n",
    "    def make_hamiltonian(self):\n",
    "        # Update the frequency of devices to shift to the drive frame\n",
    "        save_frequencies = {}\n",
    "        for key, item in self.quantum_devices.items():\n",
    "            save_frequencies[key] = item.frequency\n",
    "            item.frequency = item.frequency - self.drive.frequency\n",
    "        \n",
    "        H0 = super().make_hamiltonian()\n",
    "        \n",
    "        hilbert_space = self.make_hilbert_space()\n",
    "        hilbert_space[self.drive.target_device.device_number] = (self.drive.target_device.coupling_hamiltonian() + \n",
    "                                                                 self.drive.target_device.coupling_hamiltonian().dag())/2\n",
    "        H1 = [tensor(hilbert_space), self.drive.pulse]\n",
    "        \n",
    "        # return device frequencies to their previous values\n",
    "        for key, item in save_frequencies.items():\n",
    "            self.quantum_devices[key].frequency = item\n",
    "            \n",
    "        return [H0, H1] # [H0, [H1, omega_1(t)], [H2, omega_2(t)], ...]\n",
    "    "
   ]
  },
  {
   "cell_type": "markdown",
   "id": "79fa1529",
   "metadata": {},
   "source": [
    "Let's make sure our pulses look as we expect them to look."
   ]
  },
  {
   "cell_type": "code",
   "execution_count": null,
   "id": "28e710d7",
   "metadata": {},
   "outputs": [],
   "source": [
    "d0 = Drive(\"D0\", 0.1, q0, shape='gaussian', amp=0.09, mean=50, width=20)\n",
    "\n",
    "fig, axes = plt.subplots(1, 1)\n",
    "\n",
    "tlist = np.linspace(0, 100, 1000)\n",
    "axes.plot(tlist, [d0.pulse(t, None) for t in tlist])\n",
    "\n",
    "axes.set_xlabel(r\"$t$\", fontsize=20)\n",
    "axes.set_ylabel(r\"$A$\", fontsize=20);"
   ]
  },
  {
   "cell_type": "code",
   "execution_count": null,
   "id": "9fd22f7c",
   "metadata": {},
   "outputs": [],
   "source": [
    "d0 = Drive(\"D0\", 0.1, q0, shape='flat', amp=0.09, mean=50, width=20)\n",
    "\n",
    "fig, axes = plt.subplots(1, 1)\n",
    "\n",
    "tlist = np.linspace(0, 100, 1000)\n",
    "axes.plot(tlist, [d0.pulse(t, None) for t in tlist])\n",
    "\n",
    "axes.set_xlabel(r\"$t$\", fontsize=20)\n",
    "axes.set_ylabel(r\"$A$\", fontsize=20);"
   ]
  },
  {
   "cell_type": "markdown",
   "id": "2e899980",
   "metadata": {},
   "source": [
    "A Gaussian pulse can be used to flip a qubit from it's ground state to it's excited state."
   ]
  },
  {
   "cell_type": "code",
   "execution_count": null,
   "id": "4eba1712",
   "metadata": {},
   "outputs": [],
   "source": [
    "q0 = Qubit(\"Q0\", 0.1)\n",
    "d0 = Drive(\"D0\", 0.1, q0, shape='gaussian', amp=0.09, mean=50, width=20)\n",
    "\n",
    "qsys = DrivenQuantumSystem()\n",
    "qsys.add_component(q0)\n",
    "qsys.add_component(d0)\n",
    "\n",
    "tlist = np.linspace(0, 100, 1000)\n",
    "result = mesolve(qsys.make_hamiltonian(), qsys.make_initial_condition(Q0 = 0), tlist, [], [])\n",
    "\n",
    "z0 = qsys.make_hilbert_space()\n",
    "z0[0] = sigmaz()\n",
    "z_expect = expect(tensor(z0), result.states)\n",
    "\n",
    "fig, axes = plt.subplots(1, 1)\n",
    "\n",
    "axes.plot(tlist, z_expect)\n",
    "\n",
    "axes.set_xlabel(r\"$t$\", fontsize=20)\n",
    "axes.set_ylabel(r\"$\\left<\\sigma_z\\right>$\", fontsize=20);"
   ]
  },
  {
   "cell_type": "markdown",
   "id": "857deff2",
   "metadata": {},
   "source": [
    "We can also model dissipitive dynamics with our time-dependent Hamiltonian. Notice how the system tends towards a mixed state as opposed to the ground state like in the previous dissipitive example."
   ]
  },
  {
   "cell_type": "code",
   "execution_count": null,
   "id": "81682245",
   "metadata": {},
   "outputs": [],
   "source": [
    "q0 = Qubit(\"Q0\", 0.1)\n",
    "d0 = Drive(\"D0\", 0.1, q0, shape='flat', amp=0.1, mean=10, width=5)\n",
    "\n",
    "qsys = DrivenQuantumSystem()\n",
    "qsys.add_component(q0)\n",
    "qsys.add_component(d0)\n",
    "\n",
    "collapse = qsys.make_hilbert_space()\n",
    "collapse[0] = np.sqrt(0.01)*destroy(2)\n",
    "\n",
    "tlist = np.linspace(0, 500, 1000)\n",
    "result = mesolve(qsys.make_hamiltonian(), qsys.make_initial_condition(Q0 = 0), tlist, [tensor(collapse)], [])\n",
    "\n",
    "z0 = qsys.make_hilbert_space()\n",
    "z0[0] = sigmaz()\n",
    "z_expect = expect(tensor(z0), result.states)\n",
    "\n",
    "fig, axes = plt.subplots(1, 1)\n",
    "\n",
    "axes.plot(tlist, z_expect)\n",
    "\n",
    "axes.set_xlabel(r\"$t$\", fontsize=20)\n",
    "axes.set_ylabel(r\"$\\left<\\sigma_z\\right>$\", fontsize=20);"
   ]
  },
  {
   "cell_type": "markdown",
   "id": "1572d7c8",
   "metadata": {},
   "source": [
    "This is only a brief overview of Qutip. We didn't have time to cover more complicated time-dependent examples or stochastic and Monte Carlo simulations but please feel free to ask me if you have any further questions about qutip or object oriented programming."
   ]
  },
  {
   "cell_type": "code",
   "execution_count": null,
   "id": "6332306d",
   "metadata": {},
   "outputs": [],
   "source": []
  }
 ],
 "metadata": {
  "kernelspec": {
   "display_name": "topics_workshop",
   "language": "python",
   "name": "topics_workshop"
  },
  "language_info": {
   "codemirror_mode": {
    "name": "ipython",
    "version": 3
   },
   "file_extension": ".py",
   "mimetype": "text/x-python",
   "name": "python",
   "nbconvert_exporter": "python",
   "pygments_lexer": "ipython3",
   "version": "3.10.0"
  }
 },
 "nbformat": 4,
 "nbformat_minor": 5
}
